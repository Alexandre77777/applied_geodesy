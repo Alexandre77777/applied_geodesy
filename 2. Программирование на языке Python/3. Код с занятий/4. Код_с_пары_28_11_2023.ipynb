{
  "nbformat": 4,
  "nbformat_minor": 0,
  "metadata": {
    "colab": {
      "provenance": [],
      "authorship_tag": "ABX9TyNVxNG03X+wh3uAmW71hZQI",
      "include_colab_link": true
    },
    "kernelspec": {
      "name": "python3",
      "display_name": "Python 3"
    },
    "language_info": {
      "name": "python"
    }
  },
  "cells": [
    {
      "cell_type": "markdown",
      "metadata": {
        "id": "view-in-github",
        "colab_type": "text"
      },
      "source": [
        "<a href=\"https://colab.research.google.com/github/Alexandre77777/applied_geodesy/blob/main/2.%20%D0%9F%D1%80%D0%BE%D0%B3%D1%80%D0%B0%D0%BC%D0%BC%D0%B8%D1%80%D0%BE%D0%B2%D0%B0%D0%BD%D0%B8%D0%B5%20%D0%BD%D0%B0%20%D1%8F%D0%B7%D1%8B%D0%BA%D0%B5%20Python/3.%20%D0%9A%D0%BE%D0%B4%20%D1%81%20%D0%B7%D0%B0%D0%BD%D1%8F%D1%82%D0%B8%D0%B9/4.%20%D0%9A%D0%BE%D0%B4_%D1%81_%D0%BF%D0%B0%D1%80%D1%8B_28_11_2023.ipynb\" target=\"_parent\"><img src=\"https://colab.research.google.com/assets/colab-badge.svg\" alt=\"Open In Colab\"/></a>"
      ]
    },
    {
      "cell_type": "markdown",
      "source": [
        "# Разминка"
      ],
      "metadata": {
        "id": "paKLs2BRAzSH"
      }
    },
    {
      "cell_type": "code",
      "execution_count": null,
      "metadata": {
        "id": "8Y4FosjQUxuF"
      },
      "outputs": [],
      "source": [
        "def f(list_s):\n",
        "  # Функция f принимает аргумент list_s, который представляет собой список\n",
        "  a = max(list_s) # Переменная a присваивается максимальное значение из списка list_s\n",
        "  b = sum(list_s) # Переменная b присваивается сумма всех значений из списка list_s\n",
        "  return b, a # Возвращается кортеж, содержащий сумму всех значений и максимальное значение из списка"
      ]
    },
    {
      "cell_type": "markdown",
      "source": [
        "Проверка работы функции f"
      ],
      "metadata": {
        "id": "wHZ77EzEAFMp"
      }
    },
    {
      "cell_type": "code",
      "source": [
        "s = [1,5,6,9]\n",
        "answer = f(s)\n",
        "print(answer)\n",
        "print(f'Сумма всех элементов списка: {answer[0]}\\nМаксимальный элементов списка: {answer[1]}')"
      ],
      "metadata": {
        "colab": {
          "base_uri": "https://localhost:8080/"
        },
        "id": "gJErM1dTYolV",
        "outputId": "80b16550-a64f-4968-ef34-c679ea41e766"
      },
      "execution_count": null,
      "outputs": [
        {
          "output_type": "stream",
          "name": "stdout",
          "text": [
            "(21, 9)\n",
            "Сумма всех элементов списка: 21\n",
            "Максимальный элементов списка: 9\n"
          ]
        }
      ]
    },
    {
      "cell_type": "code",
      "source": [
        "# Функция принимает один аргумент - список чисел\n",
        "def a(list_val):\n",
        "  # Создаем переменную max_nech и присваиваем ей значение -10**111\n",
        "  # Это очень большое отрицательное число, которое будет использоваться для нахождения максимального нечетного числа в списке\n",
        "  max_nech = -10**111\n",
        "\n",
        "  # Проходим по индексам элементов в списке\n",
        "  for i in range(len(list_val)):\n",
        "    # Проверяем, является ли текущий элемент четным\n",
        "    if list_val[i] % 2 == 0:\n",
        "      # Если элемент четный, то запоминаем его значение в переменную razn_chet\n",
        "      razn_chet = list_val.pop(i)\n",
        "      # Выходим из цикла, так как нужный четный элемент найден\n",
        "      break\n",
        "\n",
        "  # Проходим по значениям в списке\n",
        "  for i in list_val:\n",
        "    # Проверяем, является ли текущее значение нечетным\n",
        "    if i % 2 == 1:\n",
        "      # Если значение нечетное, то обновляем переменную max_nech, если текущее значение больше текущего максимального нечетного значения\n",
        "      max_nech = max(max_nech, i)\n",
        "    else:\n",
        "      # Если значение четное, то вычитаем его из переменной razn_chet\n",
        "      razn_chet -= i\n",
        "\n",
        "  # Возвращаем два значения - максимальное нечетное число и разницу всех четных чисел\n",
        "  return max_nech, razn_chet"
      ],
      "metadata": {
        "id": "JmiNAe99AaeT"
      },
      "execution_count": null,
      "outputs": []
    },
    {
      "cell_type": "code",
      "source": [
        "l = [1,2,3,4,5]\n",
        "\n",
        "print(a(l))"
      ],
      "metadata": {
        "colab": {
          "base_uri": "https://localhost:8080/"
        },
        "id": "HvNXNy1EdJGX",
        "outputId": "f043e90a-bf07-4a83-884f-46a4fab0dc22"
      },
      "execution_count": null,
      "outputs": [
        {
          "output_type": "stream",
          "name": "stdout",
          "text": [
            "(5, -2)\n"
          ]
        }
      ]
    },
    {
      "cell_type": "markdown",
      "source": [
        "# Python. Итоговая практическая работа. Часть 1"
      ],
      "metadata": {
        "id": "0A55oUqUufrq"
      }
    },
    {
      "cell_type": "markdown",
      "source": [
        "## Задание №1. Написать функцию для перевода градусов, минут, секунд в десятичные градусы (*gms_to_deg*):"
      ],
      "metadata": {
        "id": "A5qFgS8wpsiy"
      }
    },
    {
      "cell_type": "code",
      "source": [
        "def gms_to_deg(g: int = None, m: int = None, s: float = None) -> float:\n",
        "  '''\n",
        "  Функция принимает на вход градусы, минуты, секунды и возвращает десятичные градусы (deg)\n",
        "  :param g: Градусы в целочисленном представлении\n",
        "  :param : Минуты в целочисленном представлении\n",
        "  :param deg: Секунды в вещественном представлении\n",
        "  :return: Десятичные градусы\n",
        "  '''\n",
        "\n",
        "  # В этом коде используется конструкция try-except для обработки возможных\n",
        "  # исключений при выполнении кода если внутри блока try произойдет ошибка,\n",
        "  # то выполняется код блока except\n",
        "  try:\n",
        "    # расчет десятичных градусов\n",
        "    # переменной deg присваивается результат вычисления\n",
        "    deg: float = int(g) + int(m) / 60 + float(s) / 3600\n",
        "  except:\n",
        "    # если произошло исключение (ошибка), то возвращается значение None\n",
        "    return None\n",
        "\n",
        "  # если ошибок не произошло, то возвращается значение deg\n",
        "  return deg"
      ],
      "metadata": {
        "id": "HPuO6zu_yJgu"
      },
      "execution_count": null,
      "outputs": []
    },
    {
      "cell_type": "markdown",
      "source": [
        "## Задание №2. Написать функцию для перевода десятичных градусов в градусы, минуты, секунды (*deg_to_gms*):\n",
        "\n"
      ],
      "metadata": {
        "id": "ltUqdXog0xZO"
      }
    },
    {
      "cell_type": "markdown",
      "source": [
        "Задание №2.1. Прокомментируйте каждую строчку кода, добавьте аннотацию типов (прим. a:str, num:int) и строки документации (многострочный комментарий сразу после объявления функции) - **по аналогии с примерами выше и ниже.**\n",
        "\n",
        "Задание №2.2. Добавьте обработку исключительных ситуаций (try - except) - **по аналогии с примерами выше и ниже.**"
      ],
      "metadata": {
        "id": "sPsxK5l97j5X"
      }
    },
    {
      "cell_type": "code",
      "source": [
        "def deg_to_gms(deg = None):\n",
        "  g = int(deg)\n",
        "  m = int((deg - g) * 60)\n",
        "  s = (((deg - g) * 60) - m) * 60\n",
        "  return g, m, round(s, 5)"
      ],
      "metadata": {
        "id": "ryjg5CtB0xqq"
      },
      "execution_count": null,
      "outputs": []
    },
    {
      "cell_type": "markdown",
      "source": [
        "## Задание №3. Написать функцию для определения четверти по знакам прирощения (*get_quarter*)"
      ],
      "metadata": {
        "id": "EM6ejRK_4xmq"
      }
    },
    {
      "cell_type": "code",
      "source": [
        "def get_quarter(dX: float = None, dY: float = None, r: float = None):\n",
        "  '''\n",
        "  Функция принимает на вход в качестве обязательных параметров приращения dX и dY,\n",
        "  в качестве необязательного - значение румба r (deg).\n",
        "  :param dX: Приращение dX\n",
        "  :param dY: Приращение dY\n",
        "  :param r: Румб в десятичных градусах (deg)\n",
        "  :return: Десятичные градусы\n",
        "  '''\n",
        "  try:\n",
        "    # Преобразуем dX и dY в числа с плавающей точкой\n",
        "    dX, dY = float(dX), float(dY)\n",
        "    # Если параметр r не указан, то r = None,\n",
        "    # в противном случае преобразуем r в число с плавающей точкой.\n",
        "    r = None if r is None else float(r)\n",
        "\n",
        "    # Проверяем, находится ли точка в первой четверти.\n",
        "    # Если dX > 0 и dY > 0, то точка находится в первой четверти.\n",
        "    if dX > 0 and dY > 0:\n",
        "      # Если параметр r не указан, возвращаем только номер четверти 1.\n",
        "      # В противном случае возвращаем номер четверти 1 и и дирекционный угол,\n",
        "      # в данном случае дирекционный угол равен румбу (r).\n",
        "      return 1 if r is None else (1, r)\n",
        "\n",
        "    # Проверяем, находится ли точка во второй четверти.\n",
        "    # Если dX < 0 и dY > 0, то точка находится во второй четверти.\n",
        "    elif dX < 0 and dY > 0:\n",
        "      # Если параметр r не указан, возвращаем только номер четверти 2.\n",
        "      # В противном случае возвращаем номер четверти 2 и угол (180 - r).\n",
        "      return 2 if r is None else (2, 180 - r)\n",
        "\n",
        "    # Проверяем, находится ли точка в третьей четверти.\n",
        "    # Если dX < 0 и dY < 0, то точка находится в третьей четверти.\n",
        "    elif dX < 0 and dY < 0:\n",
        "      # Если параметр r не указан, возвращаем только номер четверти 3.\n",
        "      # В противном случае возвращаем номер четверти 3 и дирекционный угол (180 + r).\n",
        "      return 3 if r is None else (3, 180 + r)\n",
        "\n",
        "    # Проверяем, находится ли точка в четвертой четверти.\n",
        "    # Если dX > 0 и dY < 0, то точка находится в четвертой четверти.\n",
        "    elif dX > 0 and dY < 0:\n",
        "      # Если параметр r не указан, возвращаем только номер четверти 4.\n",
        "      # В противном случае возвращаем номер четверти 4 и дирекционный угол (360 - r).\n",
        "      return 4 if r is None else (4, 360 - r)\n",
        "\n",
        "    # Если точка не находится ни в одной из четвертей,\n",
        "    # возвращаем None.\n",
        "    else:\n",
        "      return None\n",
        "\n",
        "  # Если при преобразовании dX, dY или r в числа с плавающей точкой происходит ошибка,\n",
        "  # то возникает исключение и возвращаем None.\n",
        "  except:\n",
        "    return None"
      ],
      "metadata": {
        "id": "3TlK86TD4xIB"
      },
      "execution_count": null,
      "outputs": []
    },
    {
      "cell_type": "markdown",
      "source": [
        "## Задание №4. Написать функцию для решения прямой геодезическая задачи (*direct_task*)"
      ],
      "metadata": {
        "id": "IBNlQCeUABxb"
      }
    },
    {
      "cell_type": "markdown",
      "source": [
        "Задание №4.1. Прокомментируйте каждую строчку кода, добавьте аннотацию типов (прим. a:str, num:int) и строки документации (многострочный комментарий сразу после объявления функции) - **по аналогии с примерами выше.**"
      ],
      "metadata": {
        "id": "vgjEImPI8bD2"
      }
    },
    {
      "cell_type": "code",
      "source": [
        "import math\n",
        "\n",
        "def direct_task(Xa, Ya, d, alpha):\n",
        "  try:\n",
        "    Xa, Ya, d, alpha = float(Xa), float(Ya), float(d), float(alpha)\n",
        "    dX = d * math.cos(math.radians(alpha))\n",
        "    dY = d * math.sin(math.radians(alpha))\n",
        "\n",
        "    quarter = get_quarter(dX, dY)\n",
        "\n",
        "    Xb = Xa + dX\n",
        "    Yb = Ya + dY\n",
        "\n",
        "    return dX, dY, quarter, Xb, Yb\n",
        "\n",
        "  except:\n",
        "    return None"
      ],
      "metadata": {
        "id": "yjF2m7QO7SGz"
      },
      "execution_count": null,
      "outputs": []
    },
    {
      "cell_type": "markdown",
      "source": [
        "## Задание №5. Написать функцию для решения обратной геодезическая задачи (*reverse_task*)"
      ],
      "metadata": {
        "id": "0Tt_ZC6YAFjD"
      }
    },
    {
      "cell_type": "markdown",
      "source": [
        "Задание №5.1. Прокомментируйте каждую строчку кода, добавьте аннотацию типов (прим. a:str, num:int) и строки документации (многострочный комментарий сразу после объявления функции) - **по аналогии с примерами выше.**\n",
        "\n",
        "Задание №5.2. Добавьте обработку исключительных ситуаций (try - except) - **по аналогии с примерами выше и ниже.**"
      ],
      "metadata": {
        "id": "HmD5F21r8hM0"
      }
    },
    {
      "cell_type": "code",
      "source": [
        "def reverse_task(Xa, Ya, Xb, Yb):\n",
        "  # Ваш код"
      ],
      "metadata": {
        "id": "AJy2uc8F8NGc"
      },
      "execution_count": null,
      "outputs": []
    },
    {
      "cell_type": "markdown",
      "source": [
        "## 6. Протестируйте написанные функции"
      ],
      "metadata": {
        "id": "G3tNaw03AUtw"
      }
    },
    {
      "cell_type": "markdown",
      "source": [
        "### Позитивные тесты"
      ],
      "metadata": {
        "id": "9xxCEl1g8zf3"
      }
    },
    {
      "cell_type": "code",
      "source": [
        "print(gms_to_deg(36,58,12))\n",
        "print(deg_to_gms(36.97))\n",
        "print(get_quarter(52,140))\n",
        "print(get_quarter(52,140, 145.456))\n",
        "print(direct_task(25, 140, 124, gms_to_deg(217,14,23)))"
      ],
      "metadata": {
        "colab": {
          "base_uri": "https://localhost:8080/"
        },
        "id": "u0zx8KNw8eaU",
        "outputId": "ddab6c0c-fa46-40d8-dad0-cda0dfb47590"
      },
      "execution_count": null,
      "outputs": [
        {
          "output_type": "stream",
          "name": "stdout",
          "text": [
            "36.97\n",
            "(36, 58, 12.0)\n",
            "1\n",
            "(1, 145.456)\n",
            "(-98.7177104327118, -75.03874763695929, 3, -73.7177104327118, 64.96125236304071)\n"
          ]
        }
      ]
    },
    {
      "cell_type": "markdown",
      "source": [
        "Задание №6.1. добавьте позитивные тесты функции reverse_task - **по аналогии с примерами.**"
      ],
      "metadata": {
        "id": "iJaB8eDi-xYm"
      }
    },
    {
      "cell_type": "code",
      "source": [
        "# Ваш код"
      ],
      "metadata": {
        "id": "B9_uegsD_LZx"
      },
      "execution_count": null,
      "outputs": []
    },
    {
      "cell_type": "markdown",
      "source": [
        "### Негативные тесты"
      ],
      "metadata": {
        "id": "KNV9bQwk89B_"
      }
    },
    {
      "cell_type": "code",
      "source": [
        "print(gms_to_deg(36,'58'))\n",
        "print(get_quarter(52))\n",
        "print(get_quarter(52,[1,2], 145.456))\n",
        "print(direct_task(25, 140, gms_to_deg(124), gms_to_deg(217,14,23)))\n",
        "\n",
        "print(deg_to_gms('36,97')) # Если не добавлена обработка исключений в функцию\n",
        "              # deg_to_gms, то вызовет ошибку и экстренное завершение программы"
      ],
      "metadata": {
        "id": "CS2i5pND881A"
      },
      "execution_count": null,
      "outputs": []
    },
    {
      "cell_type": "markdown",
      "source": [
        "Задание №6.1. добавьте негативные тесты функции reverse_task - **по аналогии с примерами.**"
      ],
      "metadata": {
        "id": "yQpZ7K81_Ayi"
      }
    },
    {
      "cell_type": "code",
      "source": [
        "# Ваш код"
      ],
      "metadata": {
        "id": "TrPyNgT-_GPd"
      },
      "execution_count": null,
      "outputs": []
    }
  ]
}