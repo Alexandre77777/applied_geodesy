{
  "nbformat": 4,
  "nbformat_minor": 0,
  "metadata": {
    "colab": {
      "provenance": [],
      "authorship_tag": "ABX9TyPArQ9FN64ISkbU+5DTozHC",
      "include_colab_link": true
    },
    "kernelspec": {
      "name": "python3",
      "display_name": "Python 3"
    },
    "language_info": {
      "name": "python"
    }
  },
  "cells": [
    {
      "cell_type": "markdown",
      "metadata": {
        "id": "view-in-github",
        "colab_type": "text"
      },
      "source": [
        "<a href=\"https://colab.research.google.com/github/Alexandre77777/applied_geodesy/blob/main/2.%20%D0%9F%D1%80%D0%BE%D0%B3%D1%80%D0%B0%D0%BC%D0%BC%D0%B8%D1%80%D0%BE%D0%B2%D0%B0%D0%BD%D0%B8%D0%B5%20%D0%BD%D0%B0%20%D1%8F%D0%B7%D1%8B%D0%BA%D0%B5%20Python/2.%20%D0%9F%D1%80%D0%B0%D0%BA%D1%82%D0%B8%D1%87%D0%B5%D1%81%D0%BA%D0%B8%D0%B5%20%D1%80%D0%B0%D0%B1%D0%BE%D1%82%D1%8B/1.%20Python_%D0%98%D1%82%D0%BE%D0%B3%D0%BE%D0%B2%D0%B0%D1%8F_%D0%BF%D1%80%D0%B0%D0%BA%D1%82%D0%B8%D1%87%D0%B5%D1%81%D0%BA%D0%B0%D1%8F_%D1%80%D0%B0%D0%B1%D0%BE%D1%82%D0%B0_%D0%A7%D0%B0%D1%81%D1%82%D1%8C_1.ipynb\" target=\"_parent\"><img src=\"https://colab.research.google.com/assets/colab-badge.svg\" alt=\"Open In Colab\"/></a>"
      ]
    },
    {
      "cell_type": "markdown",
      "source": [
        "# Python. Итоговая практическая работа. Часть 1"
      ],
      "metadata": {
        "id": "0A55oUqUufrq"
      }
    },
    {
      "cell_type": "markdown",
      "source": [
        "## Задание №1. Написать функцию для перевода градусов, минут, секунд в десятичные градусы (*gms_to_deg*):"
      ],
      "metadata": {
        "id": "A5qFgS8wpsiy"
      }
    },
    {
      "cell_type": "code",
      "source": [
        "def gms_to_deg(g: int = None, m: int = None, s: float = None) -> float:\n",
        "  '''\n",
        "  Функция принимает на вход градусы, минуты, секунды и возвращает десятичные градусы (deg)\n",
        "  :param g: Градусы в целочисленном представлении\n",
        "  :param : Минуты в целочисленном представлении\n",
        "  :param deg: Секунды в вещественном представлении\n",
        "  :return: Десятичные градусы\n",
        "  '''\n",
        "\n",
        "  # В этом коде используется конструкция try-except для обработки возможных\n",
        "  # исключений при выполнении кода если внутри блока try произойдет ошибка,\n",
        "  # то выполняется код блока except\n",
        "  try:\n",
        "    # расчет десятичных градусов\n",
        "    # переменной deg присваивается результат вычисления\n",
        "    deg: float = int(g) + int(m) / 60 + float(s) / 3600\n",
        "  except:\n",
        "    # если произошло исключение (ошибка), то возвращается значение None\n",
        "    return None\n",
        "\n",
        "  # если ошибок не произошло, то возвращается значение deg\n",
        "  return deg"
      ],
      "metadata": {
        "id": "HPuO6zu_yJgu"
      },
      "execution_count": 17,
      "outputs": []
    },
    {
      "cell_type": "markdown",
      "source": [
        "## Задание №2. Написать функцию для перевода десятичных градусов в градусы, минуты, секунды (*deg_to_gms*):\n",
        "\n"
      ],
      "metadata": {
        "id": "ltUqdXog0xZO"
      }
    },
    {
      "cell_type": "markdown",
      "source": [
        "Задание №2.1. Прокомментируйте каждую строчку кода, добавьте аннотацию типов (прим. a:str, num:int) и строки документации (многострочный комментарий сразу после объявления функции) - **по аналогии с примером выше.**\n",
        "\n",
        "Задание №2.2. Добавьте обработку исключительных ситуаций (try - except) - **по аналогии с примероми выше.**"
      ],
      "metadata": {
        "id": "sPsxK5l97j5X"
      }
    },
    {
      "cell_type": "code",
      "source": [
        "def deg_to_gms(deg ):\n",
        "  # Ваш код"
      ],
      "metadata": {
        "id": "ryjg5CtB0xqq"
      },
      "execution_count": 16,
      "outputs": []
    },
    {
      "cell_type": "markdown",
      "source": [
        "## Задание №3. Написать функцию для определения четверти по знакам прирощения (*get_quarter*)"
      ],
      "metadata": {
        "id": "EM6ejRK_4xmq"
      }
    },
    {
      "cell_type": "markdown",
      "source": [
        "Задание №3.1. Прокомментируйте каждую строчку кода, добавьте аннотацию типов (прим. a:str, num:int) и строки документации (многострочный комментарий сразу после объявления функции) - **по аналогии с примером выше.**\n",
        "\n",
        "Задание №3.2. Добавьте обработку исключительных ситуаций (try - except) - **по аналогии с примероми выше.**"
      ],
      "metadata": {
        "id": "fGIa1azcCbdx"
      }
    },
    {
      "cell_type": "code",
      "source": [
        "def get_quarter(dX: float = None, dY: float = None, r: float = None):\n",
        "  # Ваш код"
      ],
      "metadata": {
        "id": "3TlK86TD4xIB"
      },
      "execution_count": 15,
      "outputs": []
    },
    {
      "cell_type": "markdown",
      "source": [
        "## Задание №4. Написать функцию для решения прямой геодезическая задачи (*direct_task*)"
      ],
      "metadata": {
        "id": "IBNlQCeUABxb"
      }
    },
    {
      "cell_type": "markdown",
      "source": [
        "Задание №4.1. Прокомментируйте каждую строчку кода, добавьте аннотацию типов (прим. a:str, num:int) и строки документации (многострочный комментарий сразу после объявления функции) - **по аналогии с примерами выше.**"
      ],
      "metadata": {
        "id": "vgjEImPI8bD2"
      }
    },
    {
      "cell_type": "code",
      "source": [
        "import math\n",
        "\n",
        "def direct_task(Xa, Ya, d, alpha):\n",
        "  # Ваш код"
      ],
      "metadata": {
        "id": "yjF2m7QO7SGz"
      },
      "execution_count": 8,
      "outputs": []
    },
    {
      "cell_type": "markdown",
      "source": [
        "## Задание №5. Написать функцию для решения обратной геодезическая задачи (*reverse_task*)"
      ],
      "metadata": {
        "id": "0Tt_ZC6YAFjD"
      }
    },
    {
      "cell_type": "markdown",
      "source": [
        "Задание №5.1. Прокомментируйте каждую строчку кода, добавьте аннотацию типов (прим. a:str, num:int) и строки документации (многострочный комментарий сразу после объявления функции) - **по аналогии с примерами выше.**\n",
        "\n",
        "Задание №5.2. Добавьте обработку исключительных ситуаций (try - except) - **по аналогии с примерами выше и ниже.**"
      ],
      "metadata": {
        "id": "HmD5F21r8hM0"
      }
    },
    {
      "cell_type": "code",
      "source": [
        "def reverse_task(Xa, Ya, Xb, Yb):\n",
        "  # Ваш код"
      ],
      "metadata": {
        "id": "AJy2uc8F8NGc"
      },
      "execution_count": 10,
      "outputs": []
    },
    {
      "cell_type": "markdown",
      "source": [
        "## 6. Протестируйте написанные функции"
      ],
      "metadata": {
        "id": "G3tNaw03AUtw"
      }
    },
    {
      "cell_type": "markdown",
      "source": [
        "### Позитивные тесты"
      ],
      "metadata": {
        "id": "9xxCEl1g8zf3"
      }
    },
    {
      "cell_type": "code",
      "source": [
        "print(gms_to_deg(36,58,12))\n",
        "print(deg_to_gms(36.97))\n",
        "print(get_quarter(52,140))\n",
        "print(get_quarter(52,140, 145.456))\n",
        "print(direct_task(25, 140, 124, gms_to_deg(217,14,23)))"
      ],
      "metadata": {
        "colab": {
          "base_uri": "https://localhost:8080/"
        },
        "id": "u0zx8KNw8eaU",
        "outputId": "ddab6c0c-fa46-40d8-dad0-cda0dfb47590"
      },
      "execution_count": 13,
      "outputs": [
        {
          "output_type": "stream",
          "name": "stdout",
          "text": [
            "36.97\n",
            "(36, 58, 12.0)\n",
            "1\n",
            "(1, 145.456)\n",
            "(-98.7177104327118, -75.03874763695929, 3, -73.7177104327118, 64.96125236304071)\n"
          ]
        }
      ]
    },
    {
      "cell_type": "markdown",
      "source": [
        "Задание №6.1. добавьте позитивные тесты функции reverse_task - **по аналогии с примерами.**"
      ],
      "metadata": {
        "id": "iJaB8eDi-xYm"
      }
    },
    {
      "cell_type": "code",
      "source": [
        "# Ваш код"
      ],
      "metadata": {
        "id": "B9_uegsD_LZx"
      },
      "execution_count": null,
      "outputs": []
    },
    {
      "cell_type": "markdown",
      "source": [
        "### Негативные тесты"
      ],
      "metadata": {
        "id": "KNV9bQwk89B_"
      }
    },
    {
      "cell_type": "code",
      "source": [
        "print(gms_to_deg(36,'58'))\n",
        "print(get_quarter(52))\n",
        "print(get_quarter(52,[1,2], 145.456))\n",
        "print(direct_task(25, 140, gms_to_deg(124), gms_to_deg(217,14,23)))\n",
        "\n",
        "print(deg_to_gms('36,97')) # Если не добавлена обработка исключений в функцию\n",
        "              # deg_to_gms, то вызовет ошибку и экстренное завершение программы"
      ],
      "metadata": {
        "id": "CS2i5pND881A"
      },
      "execution_count": null,
      "outputs": []
    },
    {
      "cell_type": "markdown",
      "source": [
        "Задание №6.1. добавьте негативные тесты функции reverse_task - **по аналогии с примерами.**"
      ],
      "metadata": {
        "id": "yQpZ7K81_Ayi"
      }
    },
    {
      "cell_type": "code",
      "source": [
        "# Ваш код"
      ],
      "metadata": {
        "id": "TrPyNgT-_GPd"
      },
      "execution_count": null,
      "outputs": []
    }
  ]
}